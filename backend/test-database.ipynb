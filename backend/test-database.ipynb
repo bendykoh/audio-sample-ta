{
 "cells": [
  {
   "cell_type": "code",
   "execution_count": 1,
   "metadata": {},
   "outputs": [],
   "source": [
    "import sqlite3"
   ]
  },
  {
   "cell_type": "code",
   "execution_count": 2,
   "metadata": {},
   "outputs": [
    {
     "name": "stdout",
     "output_type": "stream",
     "text": [
      "(1, 'Sample 1.mp3', ' My name is Ethan. I was asked to come here by 11. Now it is already 3 p.m. They did not even serve me any food or drinks. Terrible.', '2025-06-11 04:18:51')\n",
      "(2, 'Sample 2.mp3', \" Help me! I can't find my parents. They told me to wait for them, but I saw this pretty butterfly and followed it. Now I am lost.\", '2025-06-11 04:18:51')\n",
      "(3, 'Sample 3.mp3', \" What should I have for lunch? There's only young tofu, Western, Japanese, economic rice stalls here. I'm sick of the choices here.\", '2025-06-11 04:18:51')\n",
      "(4, 'Sample 4.mp3', \"What should I have for lunch? There's only young tofu, Western, Japanese, economic rice stalls here. I'm sick of the choices here.\", '2025-06-11 04:27:46')\n"
     ]
    }
   ],
   "source": [
    "conn = sqlite3.connect('transcription.db')\n",
    "cursor = conn.cursor()\n",
    "\n",
    "# Execute SELECT * query\n",
    "cursor.execute(\"SELECT * FROM transcription\")\n",
    "rows = cursor.fetchall()\n",
    "\n",
    "# Print results\n",
    "for row in rows:\n",
    "    print(row)\n",
    "\n"
   ]
  },
  {
   "cell_type": "code",
   "execution_count": null,
   "metadata": {},
   "outputs": [],
   "source": []
  },
  {
   "cell_type": "code",
   "execution_count": null,
   "metadata": {},
   "outputs": [],
   "source": []
  }
 ],
 "metadata": {
  "kernelspec": {
   "display_name": "credit-scoring",
   "language": "python",
   "name": "python3"
  },
  "language_info": {
   "codemirror_mode": {
    "name": "ipython",
    "version": 3
   },
   "file_extension": ".py",
   "mimetype": "text/x-python",
   "name": "python",
   "nbconvert_exporter": "python",
   "pygments_lexer": "ipython3",
   "version": "3.9.15"
  }
 },
 "nbformat": 4,
 "nbformat_minor": 2
}
